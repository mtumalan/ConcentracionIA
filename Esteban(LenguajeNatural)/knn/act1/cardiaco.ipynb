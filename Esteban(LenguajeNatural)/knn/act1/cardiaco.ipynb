{
 "cells": [
  {
   "cell_type": "markdown",
   "metadata": {},
   "source": [
    "# Enfermedades Cardiacas -KNN\n",
    "\n",
    "Este notebook tiene el objetivo de utilizar KNN para clasificar a las personas con enfermedades cardiacas."
   ]
  },
  {
   "cell_type": "code",
   "execution_count": 26,
   "metadata": {},
   "outputs": [],
   "source": [
    "import numpy as np\n",
    "import pandas as pd\n",
    "from sklearn.neighbors import KNeighborsClassifier\n",
    "from sklearn.metrics import accuracy_score, confusion_matrix, roc_curve\n",
    "from sklearn.model_selection import train_test_split\n",
    "import matplotlib.pyplot as plt\n",
    "import os\n",
    "import codecs"
   ]
  },
  {
   "cell_type": "markdown",
   "metadata": {},
   "source": [
    "Pathfiles"
   ]
  },
  {
   "cell_type": "code",
   "execution_count": 27,
   "metadata": {},
   "outputs": [],
   "source": [
    "current_path = os.getcwd()\n",
    "training_data = os.path.join(current_path, 'Datos/training.txt')\n",
    "test_data = os.path.join(current_path, 'Datos/test.txt')"
   ]
  },
  {
   "cell_type": "code",
   "execution_count": 28,
   "metadata": {},
   "outputs": [],
   "source": [
    "training = []\n",
    "trainingLabels = []\n",
    "test = []\n",
    "testLabels = []"
   ]
  },
  {
   "cell_type": "code",
   "execution_count": 29,
   "metadata": {},
   "outputs": [],
   "source": [
    "with codecs.open(training_data, 'r', 'utf-8') as file:\n",
    "    for line in file:\n",
    "        elements = (line.rstrip('\\n')).split(',')\n",
    "        #append all the elements to the training list\n",
    "        training.append([float(x) for x in elements[:-1]])\n",
    "        #append the last element to the list as a label, changing the label to 0 or 1\n",
    "        if elements[-1] == 'Present':\n",
    "            trainingLabels.append(float(1))\n",
    "        else:\n",
    "            trainingLabels.append(float(0))\n",
    "\n",
    "\n",
    "with codecs.open(test_data, 'r', 'utf-8') as file:\n",
    "    for line in file:\n",
    "        elements = (line.rstrip('\\n')).split(',')\n",
    "        #append all the elements to the test list\n",
    "        test.append([float(x) for x in elements[:-1]])\n",
    "        #append the last element to the list as a label\n",
    "        if elements[-1] == 'Present':\n",
    "            testLabels.append(float(1))\n",
    "        else:\n",
    "            testLabels.append(float(0))"
   ]
  },
  {
   "cell_type": "markdown",
   "metadata": {},
   "source": [
    "knn"
   ]
  },
  {
   "cell_type": "code",
   "execution_count": 37,
   "metadata": {},
   "outputs": [],
   "source": [
    "def knn(metric):\n",
    "    accuracies = []\n",
    "    ks = range(3, 42)\n",
    "\n",
    "    for k in ks:\n",
    "        knn = KNeighborsClassifier(n_neighbors=k, metric=metric)\n",
    "        knn.fit(training, trainingLabels)\n",
    "        predictions = knn.predict(test)\n",
    "        accuracy = accuracy_score(testLabels, predictions)\n",
    "        accuracies.append(accuracy)\n",
    "    \n",
    "    best_k = ks[np.argmax(accuracies)]\n",
    "    best_accuracy = max(accuracies)\n",
    "\n",
    "    print(f'Best k: {best_k}')\n",
    "    print(f'Best accuracy: {best_accuracy}')\n",
    "\n",
    "    return best_k, best_accuracy"
   ]
  },
  {
   "cell_type": "markdown",
   "metadata": {},
   "source": [
    "Classifier function"
   ]
  },
  {
   "cell_type": "code",
   "execution_count": 38,
   "metadata": {},
   "outputs": [
    {
     "name": "stdout",
     "output_type": "stream",
     "text": [
      "Best k: 14\n",
      "Best accuracy: 0.7049180327868853\n",
      "Best k: 4\n",
      "Best accuracy: 0.6885245901639344\n"
     ]
    }
   ],
   "source": [
    "best_k, best_accuracy = knn('manhattan')\n",
    "mink_k, mink_accuracy = knn('minkowski')"
   ]
  },
  {
   "cell_type": "code",
   "execution_count": 40,
   "metadata": {},
   "outputs": [
    {
     "data": {
      "image/png": "[encoded data removed]",
      "text/plain": [
       "<Figure size 800x600 with 2 Axes>"
      ]
     },
     "metadata": {},
     "output_type": "display_data"
    }
   ],
   "source": [
    "#Grafica de confusion para la mejor k de ambas metricas\n",
    "knn = KNeighborsClassifier(n_neighbors=best_k, metric='manhattan')\n",
    "knn.fit(training, trainingLabels)\n",
    "predictions = knn.predict(test)\n",
    "conf_matrix = confusion_matrix(testLabels, predictions)\n",
    "\n",
    "plt.figure(figsize=(8, 6))\n",
    "plt.imshow(conf_matrix, interpolation='nearest', cmap=plt.cm.Blues)\n",
    "plt.title('Confusion Matrix')\n",
    "plt.colorbar()\n",
    "tick_marks = np.arange(len(set(testLabels)))\n",
    "plt.xticks(tick_marks, set(testLabels), rotation=45)\n",
    "plt.yticks(tick_marks, set(testLabels))\n",
    "plt.xlabel('Predicted Label')\n",
    "plt.ylabel('True Label')\n",
    "plt.show()"
   ]
  }
 ],
 "metadata": {
  "kernelspec": {
   "display_name": "base",
   "language": "python",
   "name": "python3"
  },
  "language_info": {
   "codemirror_mode": {
    "name": "ipython",
    "version": 3
   },
   "file_extension": ".py",
   "mimetype": "text/x-python",
   "name": "python",
   "nbconvert_exporter": "python",
   "pygments_lexer": "ipython3",
   "version": "3.10.12"
  }
 },
 "nbformat": 4,
 "nbformat_minor": 2
}
